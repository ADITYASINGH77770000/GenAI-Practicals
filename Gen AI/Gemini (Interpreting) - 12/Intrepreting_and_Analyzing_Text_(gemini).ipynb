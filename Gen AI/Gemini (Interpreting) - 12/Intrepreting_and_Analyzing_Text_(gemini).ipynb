{
  "nbformat": 4,
  "nbformat_minor": 0,
  "metadata": {
    "colab": {
      "provenance": []
    },
    "kernelspec": {
      "name": "python3",
      "display_name": "Python 3"
    },
    "language_info": {
      "name": "python"
    }
  },
  "cells": [
    {
      "cell_type": "code",
      "execution_count": 5,
      "metadata": {
        "id": "RnmjnEGiJ72y"
      },
      "outputs": [],
      "source": [
        "import os\n",
        "os.environ[\"GEMINI_API_KEY\"] = \"YOUR_API_KEY_HERE\"  # replace with your API key"
      ]
    },
    {
      "cell_type": "code",
      "source": [
        "import google.generativeai as genai\n",
        "from textblob import TextBlob\n",
        "import os\n",
        "\n",
        "# Configure the Gemini API with your API key\n",
        "genai.configure(api_key=os.environ[\"GEMINI_API_KEY\"])\n",
        "\n",
        "# Function to generate text using Gemini\n",
        "def generate_text(prompt: str, model: str = \"gemini-2.5-flash\"):\n",
        "    # Initialize the Gemini model\n",
        "    gemini_model = genai.GenerativeModel(model)\n",
        "    response = gemini_model.generate_content(contents=prompt)\n",
        "    return response.text\n",
        "\n",
        "# Function to analyze generated text\n",
        "def analyze_text(text: str):\n",
        "    blob = TextBlob(text)\n",
        "    analysis = {\n",
        "        \"text\": text,\n",
        "        \"word_count\": len(blob.words),\n",
        "        \"sentence_count\": len(blob.sentences),\n",
        "        \"sentiment_polarity\": blob.sentiment.polarity,  # -1 to 1\n",
        "        \"sentiment_subjectivity\": blob.sentiment.subjectivity  # 0 (objective) to 1 (subjective)\n",
        "    }\n",
        "    return analysis\n",
        "\n",
        "prompt = \"\"\"\n",
        "Summarize the following text in 3 bullet points:\n",
        "'Artificial Intelligence is transforming industries by automating tasks, improving efficiency, and enabling new innovations.'\n",
        "\"\"\"\n",
        "summary = generate_text(prompt)\n",
        "summary_analysis = analyze_text(summary)\n",
        "\n",
        "print(\"Generated Summary:\\n\", summary)\n",
        "print(\"\\nAnalysis:\", summary_analysis)\n",
        "\n",
        "prompt = \"Write a short poem about a robot exploring space.\"\n",
        "poem = generate_text(prompt)\n",
        "poem_analysis = analyze_text(poem)\n",
        "\n",
        "print(\"\\nGenerated Poem:\\n\", poem)\n",
        "print(\"\\nAnalysis:\", poem_analysis)"
      ],
      "metadata": {
        "colab": {
          "base_uri": "https://localhost:8080/",
          "height": 419
        },
        "id": "HOf3nv2mKWnx",
        "outputId": "8c0e943a-7776-4ab4-8860-f26bc5a80bf0"
      },
      "execution_count": 9,
      "outputs": [
        {
          "output_type": "stream",
          "name": "stderr",
          "text": [
            "ERROR:tornado.access:503 POST /v1beta/models/gemini-2.5-flash:generateContent?%24alt=json%3Benum-encoding%3Dint (127.0.0.1) 1366.69ms\n"
          ]
        },
        {
          "output_type": "stream",
          "name": "stdout",
          "text": [
            "Generated Summary:\n",
            " Here's the summary in 3 bullet points:\n",
            "\n",
            "*   AI automates tasks in industries.\n",
            "*   It improves efficiency across various sectors.\n",
            "*   It enables new innovations.\n",
            "\n",
            "Analysis: {'text': \"Here's the summary in 3 bullet points:\\n\\n*   AI automates tasks in industries.\\n*   It improves efficiency across various sectors.\\n*   It enables new innovations.\", 'word_count': 23, 'sentence_count': 3, 'sentiment_polarity': 0.06818181818181818, 'sentiment_subjectivity': 0.4772727272727273}\n",
            "\n",
            "Generated Poem:\n",
            " A metal shell, a silver gleam,\n",
            "Through cosmic night, a silent dream.\n",
            "No breath to hold, no heart to race,\n",
            "Just circuits hum in endless space.\n",
            "\n",
            "Past nebulae, a painted haze,\n",
            "It tracks the stars through timeless days.\n",
            "A silent probe, with steady eye,\n",
            "Exploring wonders in the endless sky.\n",
            "\n",
            "Analysis: {'text': 'A metal shell, a silver gleam,\\nThrough cosmic night, a silent dream.\\nNo breath to hold, no heart to race,\\nJust circuits hum in endless space.\\n\\nPast nebulae, a painted haze,\\nIt tracks the stars through timeless days.\\nA silent probe, with steady eye,\\nExploring wonders in the endless sky.', 'word_count': 50, 'sentence_count': 4, 'sentiment_polarity': -0.05555555555555556, 'sentiment_subjectivity': 0.4083333333333334}\n"
          ]
        }
      ]
    },
    {
      "cell_type": "code",
      "source": [],
      "metadata": {
        "id": "RdQwMkYuLAOY"
      },
      "execution_count": null,
      "outputs": []
    }
  ]
}