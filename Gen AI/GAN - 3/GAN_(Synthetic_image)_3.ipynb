{
  "nbformat": 4,
  "nbformat_minor": 0,
  "metadata": {
    "colab": {
      "provenance": [],
      "gpuType": "T4"
    },
    "kernelspec": {
      "name": "python3",
      "display_name": "Python 3"
    },
    "language_info": {
      "name": "python"
    },
    "accelerator": "GPU"
  },
  "cells": [
    {
      "cell_type": "code",
      "execution_count": 1,
      "metadata": {
        "colab": {
          "base_uri": "https://localhost:8080/"
        },
        "id": "JVelJP1MEkVe",
        "outputId": "76c66e43-0ec9-40ef-e8c5-36a92849b274"
      },
      "outputs": [
        {
          "output_type": "stream",
          "name": "stdout",
          "text": [
            "✅ Synthetic images generated and saved as synthetic.png\n"
          ]
        }
      ],
      "source": [
        "import torch\n",
        "import torch.nn as nn\n",
        "import torchvision.utils as vutils\n",
        "\n",
        "# -------------------------------\n",
        "# Generator Architecture (DCGAN)\n",
        "# -------------------------------\n",
        "class Generator(nn.Module):\n",
        "    def __init__(self):\n",
        "        super(Generator, self).__init__()\n",
        "        self.main = nn.Sequential(\n",
        "            nn.ConvTranspose2d(100, 256, 4, 1, 0, bias=False),\n",
        "            nn.BatchNorm2d(256),\n",
        "            nn.ReLU(True),\n",
        "\n",
        "            nn.ConvTranspose2d(256, 128, 4, 2, 1, bias=False),\n",
        "            nn.BatchNorm2d(128),\n",
        "            nn.ReLU(True),\n",
        "\n",
        "            nn.ConvTranspose2d(128, 64, 4, 2, 1, bias=False),\n",
        "            nn.BatchNorm2d(64),\n",
        "            nn.ReLU(True),\n",
        "\n",
        "            nn.ConvTranspose2d(64, 1, 4, 2, 1, bias=False),\n",
        "            nn.Tanh()\n",
        "        )\n",
        "\n",
        "    def forward(self, input):\n",
        "        return self.main(input)\n",
        "\n",
        "# -------------------------------\n",
        "# Load Pre-trained Generator\n",
        "# -------------------------------\n",
        "device = \"cuda\" if torch.cuda.is_available() else \"cpu\"\n",
        "netG = Generator().to(device)\n",
        "\n",
        "# Load weights (pretend pretrained, replace with actual .pth file)\n",
        "# Example: torch.load(\"generator_pretrained.pth\")\n",
        "# For demo, we'll use random init\n",
        "netG.load_state_dict(netG.state_dict())\n",
        "\n",
        "# -------------------------------\n",
        "# Generate Synthetic Images\n",
        "# -------------------------------\n",
        "z = torch.randn(16, 100, 1, 1, device=device)  # random noise\n",
        "fake_images = netG(z)\n",
        "\n",
        "# Save or visualize generated images\n",
        "vutils.save_image(fake_images, \"synthetic.png\", normalize=True)\n",
        "print(\"✅ Synthetic images generated and saved as synthetic.png\")\n"
      ]
    }
  ]
}