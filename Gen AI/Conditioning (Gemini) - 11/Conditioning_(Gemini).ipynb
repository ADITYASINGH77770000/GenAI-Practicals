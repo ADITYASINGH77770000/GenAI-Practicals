{
  "nbformat": 4,
  "nbformat_minor": 0,
  "metadata": {
    "colab": {
      "provenance": []
    },
    "kernelspec": {
      "name": "python3",
      "display_name": "Python 3"
    },
    "language_info": {
      "name": "python"
    }
  },
  "cells": [
    {
      "cell_type": "code",
      "source": [
        "import os\n",
        "\n",
        "# Replace with your actual Gemini API key\n",
        "os.environ[\"GEMINI_API_KEY\"] = \"YOUR_API_KEY_HERE\"\n"
      ],
      "metadata": {
        "id": "Ac2uirY2IXYn"
      },
      "execution_count": 4,
      "outputs": []
    },
    {
      "cell_type": "code",
      "source": [
        "import google.generativeai as genai\n",
        "import os\n",
        "\n",
        "# Configure the Gemini API with the API key from environment variables\n",
        "genai.configure(api_key=os.environ[\"GEMINI_API_KEY\"])\n",
        "\n",
        "def generate_text(prompt: str, model: str = \"gemini-2.5-flash\"):\n",
        "    \"\"\"\n",
        "    Generates text conditioned on the given prompt using Gemini API.\n",
        "\n",
        "    Args:\n",
        "        prompt (str): Task-specific instruction for the model.\n",
        "        model (str): Gemini model to use (default: \"gemini-2.5-flash\").\n",
        "\n",
        "    Returns:\n",
        "        str: Generated text from the model.\n",
        "    \"\"\"\n",
        "    # Initialize the generative model\n",
        "    generative_model = genai.GenerativeModel(model)\n",
        "\n",
        "    response = generative_model.generate_content(\n",
        "        contents=prompt\n",
        "    )\n",
        "    return response.text\n",
        "\n",
        "# ------------------------------\n",
        "# Example 1: Summarization\n",
        "summarize_prompt = \"\"\"\n",
        "Summarize the following text in 3 bullet points:\n",
        "'Artificial Intelligence is transforming industries by automating tasks, improving efficiency, and enabling new innovations.'\n",
        "\"\"\"\n",
        "summary = generate_text(summarize_prompt)\n",
        "print(\"Summary:\\n\", summary)\n",
        "\n",
        "# ------------------------------\n",
        "# Example 2: Translation\n",
        "translate_prompt = \"\"\"\n",
        "Translate the following text to French:\n",
        "'Artificial Intelligence is transforming industries by automating tasks.'\n",
        "\"\"\"\n",
        "translation = generate_text(translate_prompt)\n",
        "print(\"\\nTranslation:\\n\", translation)\n",
        "\n",
        "# ------------------------------\n",
        "# Example 3: Creative Writing\n",
        "poem_prompt = \"Write a short poem about a robot exploring space.\"\n",
        "poem = generate_text(poem_prompt)\n",
        "print(\"\\nPoem:\\n\", poem)"
      ],
      "metadata": {
        "colab": {
          "base_uri": "https://localhost:8080/",
          "height": 364
        },
        "id": "exE7f6_OI01n",
        "outputId": "7b58b68b-50d8-4027-cbb6-e86903022941"
      },
      "execution_count": 6,
      "outputs": [
        {
          "output_type": "stream",
          "name": "stdout",
          "text": [
            "Summary:\n",
            " Here's the summary in 3 bullet points:\n",
            "\n",
            "*   AI is transforming industries.\n",
            "*   It achieves this by automating tasks and improving efficiency.\n",
            "*   AI also enables new innovations.\n",
            "\n",
            "Translation:\n",
            " L'Intelligence Artificielle transforme les industries en automatisant des tâches.\n",
            "\n",
            "Poem:\n",
            " With polished shell and steady gaze,\n",
            "A robot drifts through cosmic maze.\n",
            "No breath it draws, no warmth it seeks,\n",
            "Just silent data, as it streaks.\n",
            "\n",
            "Past nebulae of gas and fire,\n",
            "A silent witness, never tire.\n",
            "Each distant star, a coded gleam,\n",
            "Part of its vast, unending dream.\n"
          ]
        }
      ]
    },
    {
      "cell_type": "code",
      "source": [],
      "metadata": {
        "id": "hfAR-h_6I7e3"
      },
      "execution_count": null,
      "outputs": []
    }
  ]
}