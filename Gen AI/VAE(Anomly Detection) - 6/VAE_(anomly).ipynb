{
  "nbformat": 4,
  "nbformat_minor": 0,
  "metadata": {
    "colab": {
      "provenance": []
    },
    "kernelspec": {
      "name": "python3",
      "display_name": "Python 3"
    },
    "language_info": {
      "name": "python"
    }
  },
  "cells": [
    {
      "cell_type": "code",
      "source": [
        "import numpy as np\n",
        "from sklearn.preprocessing import StandardScaler\n",
        "from sklearn.datasets import load_breast_cancer\n",
        "from sklearn.metrics import roc_auc_score, confusion_matrix\n",
        "import tensorflow as tf\n",
        "from tensorflow.keras import layers, Model\n",
        "\n",
        "# --- Load & preprocess ---\n",
        "X, y = load_breast_cancer(return_X_y=True)\n",
        "y = (y == 0).astype(int)  # malignant=1 (anomaly)\n",
        "X = StandardScaler().fit_transform(X).astype(np.float32)\n",
        "X_train = X[y == 0]  # train only on normals\n",
        "\n",
        "# --- VAE ---\n",
        "class VAE(Model):\n",
        "    def __init__(self, input_dim=30, latent_dim=8):\n",
        "        super().__init__()\n",
        "        self.encoder = tf.keras.Sequential([\n",
        "            layers.Dense(32, activation=\"relu\"),\n",
        "            layers.Dense(latent_dim*2)\n",
        "        ])\n",
        "        self.decoder = tf.keras.Sequential([\n",
        "            layers.Dense(32, activation=\"relu\"),\n",
        "            layers.Dense(input_dim)\n",
        "        ])\n",
        "    def call(self, x):\n",
        "        h = self.encoder(x)\n",
        "        mean, log_var = tf.split(h, 2, axis=1)\n",
        "        eps = tf.random.normal(tf.shape(mean))\n",
        "        z = mean + tf.exp(0.5*log_var)*eps\n",
        "        x_recon = self.decoder(z)\n",
        "        recon = tf.reduce_mean(tf.reduce_sum(tf.square(x-x_recon), axis=1))\n",
        "        kl = -0.5*tf.reduce_mean(tf.reduce_sum(1+log_var-tf.square(mean)-tf.exp(log_var), axis=1))\n",
        "        self.add_loss(recon+kl)\n",
        "        return x_recon\n",
        "\n",
        "vae = VAE(input_dim=X.shape[1])\n",
        "vae.compile(optimizer=\"adam\")\n",
        "vae.fit(X_train, X_train, epochs=50, batch_size=32, verbose=0)\n",
        "\n",
        "# --- Anomaly detection ---\n",
        "X_recon = vae.predict(X)\n",
        "scores = np.mean(np.square(X - X_recon), axis=1)\n",
        "th = np.percentile(scores[y==0], 95)  # threshold\n",
        "preds = (scores > th).astype(int)\n",
        "\n",
        "# --- Evaluation ---\n",
        "print(\"ROC AUC:\", roc_auc_score(y, scores))\n",
        "print(\"Confusion:\\n\", confusion_matrix(y, preds))\n"
      ],
      "metadata": {
        "colab": {
          "base_uri": "https://localhost:8080/"
        },
        "id": "Pd9bTdfijjd6",
        "outputId": "c5292c9f-c84d-41dc-8a5f-ff4049272a6c"
      },
      "execution_count": null,
      "outputs": [
        {
          "output_type": "stream",
          "name": "stdout",
          "text": [
            "\u001b[1m18/18\u001b[0m \u001b[32m━━━━━━━━━━━━━━━━━━━━\u001b[0m\u001b[37m\u001b[0m \u001b[1m0s\u001b[0m 5ms/step\n",
            "ROC AUC: 0.9568997410284868\n",
            "Confusion:\n",
            " [[339  18]\n",
            " [ 36 176]]\n"
          ]
        }
      ]
    }
  ]
}